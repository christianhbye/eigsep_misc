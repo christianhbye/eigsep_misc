{
 "cells": [
  {
   "cell_type": "code",
   "execution_count": 1,
   "id": "dc1eb966",
   "metadata": {},
   "outputs": [],
   "source": [
    "import mechanicalsoup\n",
    "import requests"
   ]
  },
  {
   "cell_type": "code",
   "execution_count": 2,
   "id": "c23084a6",
   "metadata": {},
   "outputs": [],
   "source": [
    "# 200\n",
    "#url = 'https://transition.fcc.gov/fcc-bin/fmq?call=&fileno=&state=&city=&freq=0.0&fre2=107.9&serv=-1&status=&facid=&asrn=&class=&list=2&dist=200&dlat2=39&mlat2=30&slat2=&NS=N&dlon2=110&mlon2=&slon2=&EW=W&size=9&NextTab=Results+to+Next+Page%2FTab'\n",
    "\n",
    "# 150, (39 30', 109 56' 08\")\n",
    "#url = 'https://transition.fcc.gov/fcc-bin/fmq?call=&fileno=&state=&city=&freq=0.0&fre2=107.9&serv=-1&status=&facid=&asrn=&class=&list=2&dist=150&dlat2=39&mlat2=30&slat2=&NS=N&dlon2=109&mlon2=56&slon2=08&EW=W&size=9&NextTab=Results+to+Next+Page%2FTab'\n",
    "\n",
    "# Close to Duchesne, UT / Starvation State Park, UT\n",
    "# 40°08'28\"N 110°37'25\"W\n",
    "# 100 km (72 stations)\n",
    "#url ='https://transition.fcc.gov/fcc-bin/fmq?call=&fileno=&state=&city=&freq=0.0&fre2=107.9&serv=-1&status=&facid=&asrn=&class=&list=2&dist=100&dlat2=40&mlat2=08&slat2=28&NS=N&dlon2=110&mlon2=37&slon2=25&EW=W&size=9&NextTab=Results+to+Next+Page%2FTab'\n",
    "\n",
    "# 150 km (232! stations)\n",
    "#url = 'https://transition.fcc.gov/fcc-bin/fmq?call=&fileno=&state=&city=&freq=0.0&fre2=107.9&serv=-1&status=&facid=&asrn=&class=&list=2&dist=150&dlat2=40&mlat2=08&slat2=28&NS=N&dlon2=110&mlon2=37&slon2=25&EW=W&size=9&NextTab=Results+to+Next+Page%2FTab'\n",
    "\n",
    "# The Great Hunt, 9MC, UT\n",
    "# 39 49 22, -110 8 1\n",
    "# 150 km (141 stations)\n",
    "#url = 'https://transition.fcc.gov/fcc-bin/fmq?call=&fileno=&state=&city=&freq=0.0&fre2=107.9&serv=-1&status=&facid=&asrn=&class=&list=2&dist=150&dlat2=39&mlat2=49&slat2=22&NS=N&dlon2=110&mlon2=8&slon2=1&EW=W&size=9&NextTab=Results+to+Next+Page%2FTab'\n",
    "\n",
    "# Cottonwood Canyon, UT\n",
    "# 40 39 26, -111 38 16\n",
    "# 100 km (178 stations)\n",
    "#url = 'https://transition.fcc.gov/fcc-bin/fmq?call=&fileno=&state=&city=&freq=0.0&fre2=107.9&serv=-1&status=&facid=&asrn=&class=&list=2&dist=100&dlat2=40&mlat2=39&slat2=26&NS=N&dlon2=111&mlon2=38&slon2=16&EW=W&size=9&NextTab=Results+to+Next+Page%2FTab'\n",
    "\n",
    "# Pinnacle Canyon / Devil's Canyon, UT\n",
    "# 38 53 49, -111 7 31\n",
    "# 150 km (134 stations)\n",
    "#url = 'https://transition.fcc.gov/fcc-bin/fmq?call=&fileno=&state=&city=&freq=0.0&fre2=107.9&serv=-1&status=&facid=&asrn=&class=&list=2&dist=150&dlat2=38&mlat2=53&slat2=49&NS=N&dlon2=111&mlon2=7&slon2=31&EW=W&size=9&NextTab=Results+to+Next+Page%2FTab'\n",
    "\n",
    "# Bull's Canyon\n",
    "# 39 50 31, -110 2 6\n",
    "# 150 km (132 stations)\n",
    "#url = 'https://transition.fcc.gov/fcc-bin/fmq?call=&fileno=&state=&city=&freq=0.0&fre2=107.9&serv=-1&status=&facid=&asrn=&class=&list=2&dist=150&dlat2=39&mlat2=50&slat2=31&NS=N&dlon2=110&mlon2=2&slon2=6&EW=W&size=9&NextTab=Results+to+Next+Page%2FTab'\n",
    "\n",
    "# Weaver Canyon\n",
    "# 39 59 22, 109 7 15\n",
    "# 150 km (106 stations)\n",
    "#url = 'https://transition.fcc.gov/fcc-bin/fmq?call=&fileno=&state=&city=&freq=0.0&fre2=107.9&serv=-1&status=&facid=&asrn=&class=&list=2&dist=150&dlat2=39&mlat2=59&slat2=22&NS=N&dlon2=109&mlon2=7&slon2=15&EW=W&size=9&NextTab=Results+to+Next+Page%2FTab'\n",
    "\n",
    "# Marjum Pass\n",
    "# 39 14 40.3, 113 24 25.2\n",
    "# 100 km (13 stations)\n",
    "url = 'https://transition.fcc.gov/fcc-bin/fmq?call=&fileno=&state=&city=&freq=0.0&fre2=107.9&serv=-1&status=&facid=&asrn=&class=&list=2&dist=100&dlat2=39&mlat2=14&slat2=40.3&NS=N&dlon2=113&mlon2=24&slon2=25.2&EW=W&size=9&NextTab=Results+to+Next+Page%2FTab'"
   ]
  },
  {
   "cell_type": "code",
   "execution_count": 3,
   "id": "ca6aadb4",
   "metadata": {},
   "outputs": [],
   "source": [
    "browser = mechanicalsoup.Browser()\n",
    "results = browser.get(url)\n",
    "res_html = results.soup"
   ]
  },
  {
   "cell_type": "code",
   "execution_count": 4,
   "id": "de6fef38",
   "metadata": {},
   "outputs": [],
   "source": [
    "IPaddress = 'transition.fcc.gov'\n",
    "kml_arg_dict = {'c_application_id': None, 'lms_appid': None, 'c_callsign': None, 'freq': None, 'service_contour': None, 'c_comm_city_app': None, 'c_comm_state_app': None, 'c_filenumber': None}\n",
    "def get_kml(c_application_id, lms_appid, c_callsign, Freq, service_contour, c_comm_city_app, c_comm_state_app, c_filenumber):\n",
    "    kml_link = 'https://' + IPaddress + '/fcc-bin/contourplot.kml?appid=' + c_application_id + '&lmsid=' + lms_appid + '&call=' + c_callsign +  Freq + '&contour=' + service_contour + '&city=' + c_comm_city_app + '&state=' + c_comm_state_app + '&fileno=' + c_filenumber + '&.kml'\n",
    "    newlink = kml_link.replace(\" \",\"%20\")\n",
    "    return newlink"
   ]
  },
  {
   "cell_type": "markdown",
   "id": "ce065df8",
   "metadata": {},
   "source": [
    "Probably not the best way to do this, but the KML links are generated with the function shortKMLlinks('fm',IPaddress) so we loop through all the content and look for the calls to shortKMLlinks. The args to this are always passed in the cell before."
   ]
  },
  {
   "cell_type": "code",
   "execution_count": 5,
   "id": "72ffe4dc",
   "metadata": {},
   "outputs": [],
   "source": [
    "save_folder = 'marjum100'"
   ]
  },
  {
   "cell_type": "code",
   "execution_count": 6,
   "id": "6332ea5f",
   "metadata": {
    "scrolled": false
   },
   "outputs": [],
   "source": [
    "for i in range(len(res_html.find_all('script'))):\n",
    "    contents = res_html.find_all('script')[i].contents\n",
    "    if len(contents) > 0: # make sure it's not an empty list\n",
    "        if 'shortKMLlinks' in contents[0]:\n",
    "            # extremely hacky way to assign the values\n",
    "            content = res_html.find_all('script')[i-1].contents[0]\n",
    "            for arg_str in kml_arg_dict.keys():\n",
    "                start_idx = content.find(arg_str) # first index of string\n",
    "                end_idx = start_idx + len(arg_str) # last index\n",
    "                # the value is given after ' = ', i.e. 3 more indices\n",
    "                val_start_idx = end_idx + 3\n",
    "                if arg_str == 'service_contour':\n",
    "                    val_start_idx += 1 # for some reason they have an extra space ...\n",
    "                # value always ends with a ;\n",
    "                val_end_idx = content.find(';', val_start_idx) # look for the next ; after the start of the value\n",
    "                value = content[val_start_idx:val_end_idx] # remove quotation mark\n",
    "                # remove quotation marks if they are wrapping around the value\n",
    "                if value[-1] == \"'\" or value[-1] == '\"':\n",
    "                    value = value[:-1]\n",
    "                if value[0] == \"'\" or value[0] == '\"':\n",
    "                    value = value[1:]\n",
    "                kml_arg_dict[arg_str] = value\n",
    "            # now we can get the kml link:\n",
    "            link_str = get_kml(*kml_arg_dict.values())\n",
    "            r = requests.get(link_str, allow_redirects=False)\n",
    "            fname = kml_arg_dict['c_callsign'] + str(i) + '.kml' # str(i) ensures all names are unique\n",
    "            open(save_folder + '/' + fname, 'wb').write(r.content)"
   ]
  }
 ],
 "metadata": {
  "kernelspec": {
   "display_name": "Python 3 (ipykernel)",
   "language": "python",
   "name": "python3"
  },
  "language_info": {
   "codemirror_mode": {
    "name": "ipython",
    "version": 3
   },
   "file_extension": ".py",
   "mimetype": "text/x-python",
   "name": "python",
   "nbconvert_exporter": "python",
   "pygments_lexer": "ipython3",
   "version": "3.9.0"
  }
 },
 "nbformat": 4,
 "nbformat_minor": 5
}
